{
  "cells": [
    {
      "cell_type": "markdown",
      "metadata": {
        "id": "view-in-github",
        "colab_type": "text"
      },
      "source": [
        "<a href=\"https://colab.research.google.com/github/Prathamesh-Kashelikar/dynamic-programming-problems/blob/main/dynamic_programming_problems.ipynb\" target=\"_parent\"><img src=\"https://colab.research.google.com/assets/colab-badge.svg\" alt=\"Open In Colab\"/></a>"
      ]
    },
    {
      "cell_type": "code",
      "execution_count": 4,
      "metadata": {
        "id": "uC7qHJyslzMC"
      },
      "outputs": [],
      "source": [
        "# Jovian Commit Essentials\n",
        "# Please retain and execute this cell without modifying the contents for `jovian.commit` to work\n",
        "!pip install jovian --upgrade -q\n",
        "import jovian\n",
        "jovian.set_project('dynamic-programming-problems')\n",
        "jovian.set_colab_id('1Ja0GWVmfoJgSaADySGH3B4NnVn8rXLEw')"
      ]
    },
    {
      "cell_type": "code",
      "source": [
        "project_name = 'dynamic-programming-knapsack'"
      ],
      "metadata": {
        "id": "_vxsKFKVQLt8"
      },
      "execution_count": 5,
      "outputs": []
    },
    {
      "cell_type": "code",
      "source": [
        "!pip install jovian --upgrade --quiet"
      ],
      "metadata": {
        "id": "tLGeUzCxQkzL"
      },
      "execution_count": 6,
      "outputs": []
    },
    {
      "cell_type": "code",
      "source": [
        "import jovian"
      ],
      "metadata": {
        "id": "yA_Yzb_uQkr0"
      },
      "execution_count": 7,
      "outputs": []
    },
    {
      "cell_type": "code",
      "source": [
        "jovian.commit(project=project_name)"
      ],
      "metadata": {
        "colab": {
          "base_uri": "https://localhost:8080/",
          "height": 122
        },
        "id": "xGXuUeZIQvhF",
        "outputId": "3068bd81-3896-4292-e610-7f3d262ed57e"
      },
      "execution_count": 8,
      "outputs": [
        {
          "output_type": "stream",
          "name": "stdout",
          "text": [
            "[jovian] Detected Colab notebook...\u001b[0m\n",
            "[jovian] Please enter your API key ( from https://jovian.ai/ ):\u001b[0m\n",
            "API KEY: ··········\n",
            "[jovian] Uploading colab notebook to Jovian...\u001b[0m\n",
            "Committed successfully! https://jovian.ai/prathamesh-kashelikar/dynamic-programming-knapsack\n"
          ]
        },
        {
          "output_type": "execute_result",
          "data": {
            "text/plain": [
              "'https://jovian.ai/prathamesh-kashelikar/dynamic-programming-knapsack'"
            ],
            "application/vnd.google.colaboratory.intrinsic+json": {
              "type": "string"
            }
          },
          "metadata": {},
          "execution_count": 8
        }
      ]
    },
    {
      "cell_type": "markdown",
      "metadata": {
        "id": "AdQsT1gClzML"
      },
      "source": [
        "## 0-1 Knapsack Problem\n",
        "\n",
        "#### Problem statement\n",
        "\n",
        "> You’re in charge of selecting a football (soccer) team from a large pool of players. Each player has a cost, and a rating. You have a limited budget. What is the highest total rating of a team that fits within your budget. Assume that there’s no minimum or maximum team size.\n",
        "\n",
        "\n",
        "\n",
        "General problem statemnt:\n",
        "\n",
        "> Given n elements, each of which has a weight and a profit, determine the maximum profit that can be obtained by selecting a subset of the elements weighing no more than w.\n",
        "\n",
        "<img src=\"https://i.imgur.com/4O919vu.png\" width=\"400\">\n",
        "\n",
        "\n",
        "Test cases:\n",
        "\n",
        "1. Some generic test cases\n",
        "2. All the elements can be included\n",
        "3. None of the elements can be included\n",
        "4. Only one of the elements can be included\n",
        "5. ???\n",
        "\n",
        "\n"
      ]
    },
    {
      "cell_type": "markdown",
      "metadata": {
        "id": "mY5IFV25lzML"
      },
      "source": [
        "Knapsack test cases:"
      ]
    },
    {
      "cell_type": "code",
      "execution_count": null,
      "metadata": {
        "id": "JuK46e-flzML"
      },
      "outputs": [],
      "source": [
        "test0 = {\n",
        "    'input': {\n",
        "        'capacity': 165,\n",
        "        'weights': [23, 31, 29, 44, 53, 38, 63, 85, 89, 82],\n",
        "        'profits': [92, 57, 49, 68, 60, 43, 67, 84, 87, 72]\n",
        "    },\n",
        "    'output': 309\n",
        "}\n",
        "\n",
        "test1 = {\n",
        "    'input': {\n",
        "        'capacity': 3,\n",
        "        'weights': [4, 5, 6],\n",
        "        'profits': [1, 2, 3]\n",
        "    },\n",
        "    'output': 0\n",
        "}\n",
        "\n",
        "test2 = {\n",
        "    'input': {\n",
        "        'capacity': 4,\n",
        "        'weights': [4, 5, 1],\n",
        "        'profits': [1, 2, 3]\n",
        "    },\n",
        "    'output': 3\n",
        "}\n",
        "\n",
        "test3 = {\n",
        "    'input': {\n",
        "        'capacity': 170,\n",
        "        'weights': [41, 50, 49, 59, 55, 57, 60],\n",
        "        'profits': [442, 525, 511, 593, 546, 564, 617]\n",
        "    },\n",
        "    'output': 1735\n",
        "}\n",
        "\n",
        "test4 = {\n",
        "    'input': {\n",
        "        'capacity': 15,\n",
        "        'weights': [4, 5, 6],\n",
        "        'profits': [1, 2, 3]\n",
        "    },\n",
        "    'output': 6\n",
        "}\n",
        "\n",
        "test5 = {\n",
        "    'input': {\n",
        "        'capacity': 15,\n",
        "        'weights': [4, 5, 1, 3, 2, 5],\n",
        "        'profits': [2, 3, 1, 5, 4, 7]\n",
        "    },\n",
        "    'output': 19\n",
        "}"
      ]
    },
    {
      "cell_type": "code",
      "execution_count": null,
      "metadata": {
        "id": "SvLFlzHTlzMM"
      },
      "outputs": [],
      "source": [
        "tests = [test0, test1, test2, test3, test4, test5]"
      ]
    },
    {
      "cell_type": "code",
      "execution_count": null,
      "metadata": {
        "id": "CjT1RGYdlzMM"
      },
      "outputs": [],
      "source": [
        ""
      ]
    },
    {
      "cell_type": "markdown",
      "metadata": {
        "id": "m3e5MV2ilzMM"
      },
      "source": [
        "#### Recursion\n",
        "\n",
        "<img src=\"https://i.imgur.com/eaJzv02.png\" width=\"400\">\n",
        "\n",
        "1. We'll write a recursive function that computes `max_profit(weights[idx:], profits[idx:], capacity)`, with `idx` starting from 0.\n",
        "\n",
        "\n",
        "2. If `weights[idx] > capacity`, the current element is cannot be selected, so the maximum profit is the same as `max_profit(weights[idx+1:], profits[idx+1:], capacity)`.\n",
        "\n",
        "\n",
        "3. Otherwise, there are two possibilities: we either pick `weights[idx]` or don't. We can recursively compute the maximum\n",
        "\n",
        "    A. If we don't pick `weights[idx]`, once again the maximum profit for this case is `max_profit(weights[idx+1:], profits[idx+1:], capacity)`\n",
        "\n",
        "    B. If we pick `weights[idx]`, the maximum profit for this case is `profits[idx] + max_profit(weights[idx+1:], profits[idx+1:], capacity - weights[idx]`\n",
        "\n",
        "\n",
        "4. If `weights[idx:]` is empty, the maximum profit for this case is 0.\n",
        "\n",
        "\n",
        "\n",
        "\n",
        "\n",
        "Here's a visualization of the recursion tree:\n",
        "\n",
        "<img src=\"https://i.imgur.com/WsKTC6I.png\" width=\"640\">\n",
        "\n",
        "\n",
        "Verify that the time complexity of the recursive algorithm is $O(2^N)$\n"
      ]
    },
    {
      "cell_type": "markdown",
      "metadata": {
        "id": "JBIw_v3tlzMM"
      },
      "source": [
        "#### Dynamic Programming\n",
        "\n",
        "1. Create a table of size `(n+1) * (capacity+1)` consisting of all 0s, where is `n` is the number of elements. `table[i][c]` represents the maximum profit that can be obtained using the first `i` elements if the maximum capacity is `c`. Here's a visual representation of a filled table (source - geeksforgeeks):\n",
        "\n",
        "<img src=\"https://i2.wp.com/techieme.in/wp-content/uploads/01knapsack.png?w=1213\" width=\"640\">\n",
        "\n",
        "(The 0th row will contain all zeros and is not shown above.)\n",
        "\n",
        "2. We'll fill the table row by row and column by column. `table[i][c]` can be filled using some values in the row above it.\n",
        "\n",
        "3. If `weights[i] > c` i.e. if the current element can is larger than capacity, then `table[i+1][c]` is simply equal to `table[i][c]` (since there's no way we can pick this element).\n",
        "\n",
        "4. If `weights[i] <= c` then we have two choices: to either pick the current element or not to get the value of `table[i+1][c]`. We can compare the maximum profit for both these options and pick the better one as the value of `table[i][c]`.\n",
        "\n",
        "    A. If we don't pick  the element with weight `weights[i]`, then once again the maximum profit is `table[i][c]`\n",
        "    \n",
        "    B. If we pick the element with weight `weights[i]`, then the maximum profit is `profits[i] + table[i][c-weights[i]]`, since we have used up some capacity.\n",
        "    \n",
        "\n",
        "\n",
        "Verify that the complexity of the dynamic programming solution is $O(N * W)$."
      ]
    },
    {
      "cell_type": "code",
      "execution_count": null,
      "metadata": {
        "id": "o-9hLaWhlzMM"
      },
      "outputs": [],
      "source": [
        ""
      ]
    },
    {
      "cell_type": "code",
      "execution_count": null,
      "metadata": {
        "id": "fya27o2slzMM"
      },
      "outputs": [],
      "source": [
        ""
      ]
    },
    {
      "cell_type": "code",
      "execution_count": null,
      "metadata": {
        "id": "WjXoGNQdlzMM"
      },
      "outputs": [],
      "source": [
        ""
      ]
    },
    {
      "cell_type": "code",
      "execution_count": null,
      "metadata": {
        "id": "LugmbaUClzMM"
      },
      "outputs": [],
      "source": [
        ""
      ]
    },
    {
      "cell_type": "code",
      "execution_count": null,
      "metadata": {
        "id": "Q5KSZ-82lzMN"
      },
      "outputs": [],
      "source": [
        ""
      ]
    },
    {
      "cell_type": "markdown",
      "metadata": {
        "id": "SVZ-kOHRlzMN"
      },
      "source": [
        "Longest common subsequence:"
      ]
    },
    {
      "cell_type": "code",
      "execution_count": null,
      "metadata": {
        "id": "N_JOXs-glzMN"
      },
      "outputs": [],
      "source": [
        "def lcq_recursive(seq1, seq2, idx1=0, idx2=0):\n",
        "    # Check if either of the sequences is exhausted\n",
        "    if idx1 == len(seq1) or idx2 == len(seq2):\n",
        "        return 0\n",
        "    \n",
        "    # Check if the current characters are equal\n",
        "    if seq1[idx1] == seq2[idx2]:\n",
        "        return 1 + lcq_recursive(seq1, seq2, idx1+1, idx2+1)\n",
        "    # Skip one element from each sequence\n",
        "    else:\n",
        "        return max(lcq_recursive(seq1, seq2, idx1+1, idx2), \n",
        "                   lcq_recursive(seq1, seq2, idx1, idx2+1))    "
      ]
    },
    {
      "cell_type": "code",
      "execution_count": null,
      "metadata": {
        "id": "rdTnS0tQlzMN"
      },
      "outputs": [],
      "source": [
        "from jovian.pythondsa import evaluate_test_cases"
      ]
    },
    {
      "cell_type": "code",
      "execution_count": null,
      "metadata": {
        "id": "O7cKVOLGlzMN",
        "outputId": "a06e8843-d481-4e57-e93d-0a7016cc3c47"
      },
      "outputs": [
        {
          "name": "stdout",
          "output_type": "stream",
          "text": [
            "\n",
            "\u001b[1mTEST CASE #0\u001b[0m\n",
            "\n",
            "Input:\n",
            "{'seq1': 'serendipitous', 'seq2': 'precipitation'}\n",
            "\n",
            "Expected Output:\n",
            "7\n",
            "\n",
            "\n",
            "Actual Output:\n",
            "7\n",
            "\n",
            "Execution Time:\n",
            "303.001 ms\n",
            "\n",
            "Test Result:\n",
            "\u001b[92mPASSED\u001b[0m\n",
            "\n",
            "\n",
            "\u001b[1mTEST CASE #1\u001b[0m\n",
            "\n",
            "Input:\n",
            "{'seq1': [1, 3, 5, 6, 7, 2, 5, 2, 3], 'seq2': [6, 2, 4, 7, 1, 5, 6, 2, 3]}\n",
            "\n",
            "Expected Output:\n",
            "5\n",
            "\n",
            "\n",
            "Actual Output:\n",
            "5\n",
            "\n",
            "Execution Time:\n",
            "4.127 ms\n",
            "\n",
            "Test Result:\n",
            "\u001b[92mPASSED\u001b[0m\n",
            "\n",
            "\n",
            "\u001b[1mTEST CASE #2\u001b[0m\n",
            "\n",
            "Input:\n",
            "{'seq1': 'longest', 'seq2': 'stone'}\n",
            "\n",
            "Expected Output:\n",
            "3\n",
            "\n",
            "\n",
            "Actual Output:\n",
            "3\n",
            "\n",
            "Execution Time:\n",
            "0.177 ms\n",
            "\n",
            "Test Result:\n",
            "\u001b[92mPASSED\u001b[0m\n",
            "\n",
            "\n",
            "\u001b[1mTEST CASE #3\u001b[0m\n",
            "\n",
            "Input:\n",
            "{'seq1': 'asdfwevad', 'seq2': 'opkpoiklklj'}\n",
            "\n",
            "Expected Output:\n",
            "0\n",
            "\n",
            "\n",
            "Actual Output:\n",
            "0\n",
            "\n",
            "Execution Time:\n",
            "90.804 ms\n",
            "\n",
            "Test Result:\n",
            "\u001b[92mPASSED\u001b[0m\n",
            "\n",
            "\n",
            "\u001b[1mTEST CASE #4\u001b[0m\n",
            "\n",
            "Input:\n",
            "{'seq1': 'dense', 'seq2': 'condensed'}\n",
            "\n",
            "Expected Output:\n",
            "5\n",
            "\n",
            "\n",
            "Actual Output:\n",
            "5\n",
            "\n",
            "Execution Time:\n",
            "0.099 ms\n",
            "\n",
            "Test Result:\n",
            "\u001b[92mPASSED\u001b[0m\n",
            "\n",
            "\n",
            "\u001b[1mTEST CASE #5\u001b[0m\n",
            "\n",
            "Input:\n",
            "{'seq1': '', 'seq2': 'opkpoiklklj'}\n",
            "\n",
            "Expected Output:\n",
            "0\n",
            "\n",
            "\n",
            "Actual Output:\n",
            "0\n",
            "\n",
            "Execution Time:\n",
            "0.001 ms\n",
            "\n",
            "Test Result:\n",
            "\u001b[92mPASSED\u001b[0m\n",
            "\n",
            "\n",
            "\u001b[1mTEST CASE #6\u001b[0m\n",
            "\n",
            "Input:\n",
            "{'seq1': '', 'seq2': ''}\n",
            "\n",
            "Expected Output:\n",
            "0\n",
            "\n",
            "\n",
            "Actual Output:\n",
            "0\n",
            "\n",
            "Execution Time:\n",
            "0.001 ms\n",
            "\n",
            "Test Result:\n",
            "\u001b[92mPASSED\u001b[0m\n",
            "\n",
            "\n",
            "\u001b[1mTEST CASE #7\u001b[0m\n",
            "\n",
            "Input:\n",
            "{'seq1': 'abcdef', 'seq2': 'badcfe'}\n",
            "\n",
            "Expected Output:\n",
            "3\n",
            "\n",
            "\n",
            "Actual Output:\n",
            "3\n",
            "\n",
            "Execution Time:\n",
            "0.033 ms\n",
            "\n",
            "Test Result:\n",
            "\u001b[92mPASSED\u001b[0m\n",
            "\n",
            "\n",
            "\u001b[1mSUMMARY\u001b[0m\n",
            "\n",
            "TOTAL: 8, \u001b[92mPASSED\u001b[0m: 8, \u001b[91mFAILED\u001b[0m: 0\n"
          ]
        },
        {
          "data": {
            "text/plain": [
              "[(7, True, 303.001),\n",
              " (5, True, 4.127),\n",
              " (3, True, 0.177),\n",
              " (0, True, 90.804),\n",
              " (5, True, 0.099),\n",
              " (0, True, 0.001),\n",
              " (0, True, 0.001),\n",
              " (3, True, 0.033)]"
            ]
          },
          "execution_count": 9,
          "metadata": {},
          "output_type": "execute_result"
        }
      ],
      "source": [
        "evaluate_test_cases(lcq_recursive, lcq_tests)"
      ]
    },
    {
      "cell_type": "code",
      "execution_count": null,
      "metadata": {
        "id": "1bms9BN2lzMN",
        "outputId": "54ed5860-c5cd-401f-9c21-936b3e40a5c2"
      },
      "outputs": [
        {
          "name": "stdout",
          "output_type": "stream",
          "text": [
            "CPU times: user 163 ms, sys: 1.84 ms, total: 165 ms\n",
            "Wall time: 164 ms\n"
          ]
        },
        {
          "data": {
            "text/plain": [
              "7"
            ]
          },
          "execution_count": 24,
          "metadata": {},
          "output_type": "execute_result"
        }
      ],
      "source": [
        "%%time\n",
        "lcq_recursive('seredipitous', 'precipitation')"
      ]
    },
    {
      "cell_type": "code",
      "execution_count": null,
      "metadata": {
        "id": "3qlj9ZzdlzMO",
        "outputId": "c6a04604-ba0a-4dc1-8de5-d9f72a08893b"
      },
      "outputs": [
        {
          "name": "stdout",
          "output_type": "stream",
          "text": [
            "CPU times: user 2.58 s, sys: 2.17 ms, total: 2.58 s\n",
            "Wall time: 2.58 s\n"
          ]
        },
        {
          "data": {
            "text/plain": [
              "0"
            ]
          },
          "execution_count": 25,
          "metadata": {},
          "output_type": "execute_result"
        }
      ],
      "source": [
        "%%time\n",
        "lcq_recursive('Asdfsfafssess', 'oypiououuiuo')"
      ]
    },
    {
      "cell_type": "code",
      "execution_count": null,
      "metadata": {
        "id": "2OsJzl4dlzMO"
      },
      "outputs": [],
      "source": [
        "def lcq_memoized(seq1, seq2):\n",
        "    memo = {}\n",
        "    \n",
        "    def recurse(idx1, idx2):\n",
        "        key = idx1, idx2\n",
        "        \n",
        "        if key in memo:\n",
        "            return memo[key]\n",
        "        \n",
        "        if idx1 == len(seq1) or idx2 == len(seq2):\n",
        "            memo[key] = 0\n",
        "        elif seq1[idx1] == seq2[idx2]:\n",
        "            memo[key] = 1 + recurse(idx1+1, idx2+1)\n",
        "        else:\n",
        "            memo[key] = max(recurse(idx1+1, idx2), \n",
        "                            recurse(idx1, idx2+1))\n",
        "        return memo[key]\n",
        "        \n",
        "    return recurse(0, 0)"
      ]
    },
    {
      "cell_type": "code",
      "execution_count": null,
      "metadata": {
        "id": "4A6T_xaXlzMO",
        "outputId": "ce759670-d98d-4a43-f279-6d7231591447"
      },
      "outputs": [
        {
          "name": "stdout",
          "output_type": "stream",
          "text": [
            "\n",
            "\u001b[1mTEST CASE #0\u001b[0m\n",
            "\n",
            "Input:\n",
            "{'seq1': 'serendipitous', 'seq2': 'precipitation'}\n",
            "\n",
            "Expected Output:\n",
            "7\n",
            "\n",
            "\n",
            "Actual Output:\n",
            "7\n",
            "\n",
            "Execution Time:\n",
            "0.182 ms\n",
            "\n",
            "Test Result:\n",
            "\u001b[92mPASSED\u001b[0m\n",
            "\n",
            "\n",
            "\u001b[1mTEST CASE #1\u001b[0m\n",
            "\n",
            "Input:\n",
            "{'seq1': [1, 3, 5, 6, 7, 2, 5, 2, 3], 'seq2': [6, 2, 4, 7, 1, 5, 6, 2, 3]}\n",
            "\n",
            "Expected Output:\n",
            "5\n",
            "\n",
            "\n",
            "Actual Output:\n",
            "5\n",
            "\n",
            "Execution Time:\n",
            "0.084 ms\n",
            "\n",
            "Test Result:\n",
            "\u001b[92mPASSED\u001b[0m\n",
            "\n",
            "\n",
            "\u001b[1mTEST CASE #2\u001b[0m\n",
            "\n",
            "Input:\n",
            "{'seq1': 'longest', 'seq2': 'stone'}\n",
            "\n",
            "Expected Output:\n",
            "3\n",
            "\n",
            "\n",
            "Actual Output:\n",
            "3\n",
            "\n",
            "Execution Time:\n",
            "0.045 ms\n",
            "\n",
            "Test Result:\n",
            "\u001b[92mPASSED\u001b[0m\n",
            "\n",
            "\n",
            "\u001b[1mTEST CASE #3\u001b[0m\n",
            "\n",
            "Input:\n",
            "{'seq1': 'asdfwevad', 'seq2': 'opkpoiklklj'}\n",
            "\n",
            "Expected Output:\n",
            "0\n",
            "\n",
            "\n",
            "Actual Output:\n",
            "0\n",
            "\n",
            "Execution Time:\n",
            "0.119 ms\n",
            "\n",
            "Test Result:\n",
            "\u001b[92mPASSED\u001b[0m\n",
            "\n",
            "\n",
            "\u001b[1mTEST CASE #4\u001b[0m\n",
            "\n",
            "Input:\n",
            "{'seq1': 'dense', 'seq2': 'condensed'}\n",
            "\n",
            "Expected Output:\n",
            "5\n",
            "\n",
            "\n",
            "Actual Output:\n",
            "5\n",
            "\n",
            "Execution Time:\n",
            "0.041 ms\n",
            "\n",
            "Test Result:\n",
            "\u001b[92mPASSED\u001b[0m\n",
            "\n",
            "\n",
            "\u001b[1mTEST CASE #5\u001b[0m\n",
            "\n",
            "Input:\n",
            "{'seq1': '', 'seq2': 'opkpoiklklj'}\n",
            "\n",
            "Expected Output:\n",
            "0\n",
            "\n",
            "\n",
            "Actual Output:\n",
            "0\n",
            "\n",
            "Execution Time:\n",
            "0.004 ms\n",
            "\n",
            "Test Result:\n",
            "\u001b[92mPASSED\u001b[0m\n",
            "\n",
            "\n",
            "\u001b[1mTEST CASE #6\u001b[0m\n",
            "\n",
            "Input:\n",
            "{'seq1': '', 'seq2': ''}\n",
            "\n",
            "Expected Output:\n",
            "0\n",
            "\n",
            "\n",
            "Actual Output:\n",
            "0\n",
            "\n",
            "Execution Time:\n",
            "0.002 ms\n",
            "\n",
            "Test Result:\n",
            "\u001b[92mPASSED\u001b[0m\n",
            "\n",
            "\n",
            "\u001b[1mTEST CASE #7\u001b[0m\n",
            "\n",
            "Input:\n",
            "{'seq1': 'abcdef', 'seq2': 'badcfe'}\n",
            "\n",
            "Expected Output:\n",
            "3\n",
            "\n",
            "\n",
            "Actual Output:\n",
            "3\n",
            "\n",
            "Execution Time:\n",
            "0.032 ms\n",
            "\n",
            "Test Result:\n",
            "\u001b[92mPASSED\u001b[0m\n",
            "\n",
            "\n",
            "\u001b[1mSUMMARY\u001b[0m\n",
            "\n",
            "TOTAL: 8, \u001b[92mPASSED\u001b[0m: 8, \u001b[91mFAILED\u001b[0m: 0\n"
          ]
        },
        {
          "data": {
            "text/plain": [
              "[(7, True, 0.182),\n",
              " (5, True, 0.084),\n",
              " (3, True, 0.045),\n",
              " (0, True, 0.119),\n",
              " (5, True, 0.041),\n",
              " (0, True, 0.004),\n",
              " (0, True, 0.002),\n",
              " (3, True, 0.032)]"
            ]
          },
          "execution_count": 27,
          "metadata": {},
          "output_type": "execute_result"
        }
      ],
      "source": [
        "evaluate_test_cases(lcq_memoized, lcq_tests)"
      ]
    },
    {
      "cell_type": "code",
      "execution_count": null,
      "metadata": {
        "id": "_IwmX0rAlzMO",
        "outputId": "6dea0c90-c23e-489b-a39f-a64459092ec4"
      },
      "outputs": [
        {
          "name": "stdout",
          "output_type": "stream",
          "text": [
            "CPU times: user 172 µs, sys: 1 µs, total: 173 µs\n",
            "Wall time: 177 µs\n"
          ]
        },
        {
          "data": {
            "text/plain": [
              "0"
            ]
          },
          "execution_count": 28,
          "metadata": {},
          "output_type": "execute_result"
        }
      ],
      "source": [
        "%%time\n",
        "lcq_memoized('Asdfsfafssess', 'oypiououuiuo')"
      ]
    },
    {
      "cell_type": "code",
      "execution_count": null,
      "metadata": {
        "id": "DIv5rIpllzMO",
        "outputId": "47dc44b2-d107-496d-9ed2-72a44ceb9b81"
      },
      "outputs": [
        {
          "name": "stdout",
          "output_type": "stream",
          "text": [
            "CPU times: user 157 µs, sys: 0 ns, total: 157 µs\n",
            "Wall time: 161 µs\n"
          ]
        },
        {
          "data": {
            "text/plain": [
              "7"
            ]
          },
          "execution_count": 29,
          "metadata": {},
          "output_type": "execute_result"
        }
      ],
      "source": [
        "%%time\n",
        "lcq_memoized('seredipitous', 'precipitation')"
      ]
    },
    {
      "cell_type": "code",
      "execution_count": null,
      "metadata": {
        "id": "6doyJJIzlzMO",
        "outputId": "949e246f-40f5-4cd9-f0fc-0cfc24b0c557"
      },
      "outputs": [
        {
          "name": "stdout",
          "output_type": "stream",
          "text": [
            "CPU times: user 48 µs, sys: 0 ns, total: 48 µs\n",
            "Wall time: 50.3 µs\n"
          ]
        },
        {
          "data": {
            "text/plain": [
              "3"
            ]
          },
          "execution_count": 30,
          "metadata": {},
          "output_type": "execute_result"
        }
      ],
      "source": [
        "%%time\n",
        "lcq_memoized('longest', 'stone')"
      ]
    },
    {
      "cell_type": "markdown",
      "metadata": {
        "id": "g_kaFgxslzMP"
      },
      "source": [
        "Dynamic programming:"
      ]
    },
    {
      "cell_type": "code",
      "execution_count": null,
      "metadata": {
        "id": "SGibx5D8lzMP"
      },
      "outputs": [],
      "source": [
        "def lcq_dp(seq1, seq2):\n",
        "    n1, n2 = len(seq1), len(seq2)\n",
        "    results = [[0 for _ in range(n2+1)] for _ in range(n1+1)]\n",
        "    for idx1 in range(n1):\n",
        "        for idx2 in range(n2):\n",
        "            if seq1[idx1] == seq2[idx2]:\n",
        "                results[idx1+1][idx2+1] = 1 + results[idx1][idx2]\n",
        "            else:\n",
        "                results[idx1+1][idx2+1] = max(results[idx1][idx2+1], results[idx1+1][idx2])\n",
        "    return results[-1][-1]"
      ]
    },
    {
      "cell_type": "code",
      "execution_count": null,
      "metadata": {
        "scrolled": true,
        "id": "tcikjCWalzMP",
        "outputId": "ce43149a-c4ee-4323-f8a0-54af474f85d9"
      },
      "outputs": [
        {
          "name": "stdout",
          "output_type": "stream",
          "text": [
            "\n",
            "\u001b[1mTEST CASE #0\u001b[0m\n",
            "\n",
            "Input:\n",
            "{'seq1': 'serendipitous', 'seq2': 'precipitation'}\n",
            "\n",
            "Expected Output:\n",
            "7\n",
            "\n",
            "\n",
            "Actual Output:\n",
            "7\n",
            "\n",
            "Execution Time:\n",
            "0.096 ms\n",
            "\n",
            "Test Result:\n",
            "\u001b[92mPASSED\u001b[0m\n",
            "\n",
            "\n",
            "\u001b[1mTEST CASE #1\u001b[0m\n",
            "\n",
            "Input:\n",
            "{'seq1': [1, 3, 5, 6, 7, 2, 5, 2, 3], 'seq2': [6, 2, 4, 7, 1, 5, 6, 2, 3]}\n",
            "\n",
            "Expected Output:\n",
            "5\n",
            "\n",
            "\n",
            "Actual Output:\n",
            "5\n",
            "\n",
            "Execution Time:\n",
            "0.048 ms\n",
            "\n",
            "Test Result:\n",
            "\u001b[92mPASSED\u001b[0m\n",
            "\n",
            "\n",
            "\u001b[1mTEST CASE #2\u001b[0m\n",
            "\n",
            "Input:\n",
            "{'seq1': 'longest', 'seq2': 'stone'}\n",
            "\n",
            "Expected Output:\n",
            "3\n",
            "\n",
            "\n",
            "Actual Output:\n",
            "3\n",
            "\n",
            "Execution Time:\n",
            "0.031 ms\n",
            "\n",
            "Test Result:\n",
            "\u001b[92mPASSED\u001b[0m\n",
            "\n",
            "\n",
            "\u001b[1mTEST CASE #3\u001b[0m\n",
            "\n",
            "Input:\n",
            "{'seq1': 'asdfwevad', 'seq2': 'opkpoiklklj'}\n",
            "\n",
            "Expected Output:\n",
            "0\n",
            "\n",
            "\n",
            "Actual Output:\n",
            "0\n",
            "\n",
            "Execution Time:\n",
            "0.065 ms\n",
            "\n",
            "Test Result:\n",
            "\u001b[92mPASSED\u001b[0m\n",
            "\n",
            "\n",
            "\u001b[1mTEST CASE #4\u001b[0m\n",
            "\n",
            "Input:\n",
            "{'seq1': 'dense', 'seq2': 'condensed'}\n",
            "\n",
            "Expected Output:\n",
            "5\n",
            "\n",
            "\n",
            "Actual Output:\n",
            "5\n",
            "\n",
            "Execution Time:\n",
            "0.033 ms\n",
            "\n",
            "Test Result:\n",
            "\u001b[92mPASSED\u001b[0m\n",
            "\n",
            "\n",
            "\u001b[1mTEST CASE #5\u001b[0m\n",
            "\n",
            "Input:\n",
            "{'seq1': '', 'seq2': 'opkpoiklklj'}\n",
            "\n",
            "Expected Output:\n",
            "0\n",
            "\n",
            "\n",
            "Actual Output:\n",
            "0\n",
            "\n",
            "Execution Time:\n",
            "0.006 ms\n",
            "\n",
            "Test Result:\n",
            "\u001b[92mPASSED\u001b[0m\n",
            "\n",
            "\n",
            "\u001b[1mTEST CASE #6\u001b[0m\n",
            "\n",
            "Input:\n",
            "{'seq1': '', 'seq2': ''}\n",
            "\n",
            "Expected Output:\n",
            "0\n",
            "\n",
            "\n",
            "Actual Output:\n",
            "0\n",
            "\n",
            "Execution Time:\n",
            "0.004 ms\n",
            "\n",
            "Test Result:\n",
            "\u001b[92mPASSED\u001b[0m\n",
            "\n",
            "\n",
            "\u001b[1mTEST CASE #7\u001b[0m\n",
            "\n",
            "Input:\n",
            "{'seq1': 'abcdef', 'seq2': 'badcfe'}\n",
            "\n",
            "Expected Output:\n",
            "3\n",
            "\n",
            "\n",
            "Actual Output:\n",
            "3\n",
            "\n",
            "Execution Time:\n",
            "0.031 ms\n",
            "\n",
            "Test Result:\n",
            "\u001b[92mPASSED\u001b[0m\n",
            "\n",
            "\n",
            "\u001b[1mSUMMARY\u001b[0m\n",
            "\n",
            "TOTAL: 8, \u001b[92mPASSED\u001b[0m: 8, \u001b[91mFAILED\u001b[0m: 0\n"
          ]
        },
        {
          "data": {
            "text/plain": [
              "[(7, True, 0.096),\n",
              " (5, True, 0.048),\n",
              " (3, True, 0.031),\n",
              " (0, True, 0.065),\n",
              " (5, True, 0.033),\n",
              " (0, True, 0.006),\n",
              " (0, True, 0.004),\n",
              " (3, True, 0.031)]"
            ]
          },
          "execution_count": 32,
          "metadata": {},
          "output_type": "execute_result"
        }
      ],
      "source": [
        "evaluate_test_cases(lcq_dp, lcq_tests)"
      ]
    },
    {
      "cell_type": "code",
      "execution_count": null,
      "metadata": {
        "id": "NJoQGH04lzMP",
        "outputId": "b344923c-e99f-441c-c2cb-734d51778b93"
      },
      "outputs": [
        {
          "name": "stdout",
          "output_type": "stream",
          "text": [
            "CPU times: user 92 µs, sys: 0 ns, total: 92 µs\n",
            "Wall time: 93.9 µs\n"
          ]
        },
        {
          "data": {
            "text/plain": [
              "0"
            ]
          },
          "execution_count": 33,
          "metadata": {},
          "output_type": "execute_result"
        }
      ],
      "source": [
        "%%time\n",
        "lcq_dp('Asdfsfafssess', 'oypiououuiuo')"
      ]
    },
    {
      "cell_type": "code",
      "execution_count": null,
      "metadata": {
        "id": "-FdfALavlzMP",
        "outputId": "df868e58-2d17-48c8-9ceb-4e4bafa29aa9"
      },
      "outputs": [
        {
          "name": "stdout",
          "output_type": "stream",
          "text": [
            "CPU times: user 94 µs, sys: 0 ns, total: 94 µs\n",
            "Wall time: 98.9 µs\n"
          ]
        },
        {
          "data": {
            "text/plain": [
              "7"
            ]
          },
          "execution_count": 34,
          "metadata": {},
          "output_type": "execute_result"
        }
      ],
      "source": [
        "%%time\n",
        "lcq_dp('seredipitous', 'precipitation')"
      ]
    },
    {
      "cell_type": "code",
      "execution_count": null,
      "metadata": {
        "id": "qZ8OG_MAlzMP",
        "outputId": "45889a8e-247f-4004-9397-ac886e38b87c"
      },
      "outputs": [
        {
          "name": "stdout",
          "output_type": "stream",
          "text": [
            "CPU times: user 32 µs, sys: 1e+03 ns, total: 33 µs\n",
            "Wall time: 35 µs\n"
          ]
        },
        {
          "data": {
            "text/plain": [
              "3"
            ]
          },
          "execution_count": 35,
          "metadata": {},
          "output_type": "execute_result"
        }
      ],
      "source": [
        "%%time\n",
        "lcq_dp('longest', 'stone')"
      ]
    },
    {
      "cell_type": "code",
      "execution_count": null,
      "metadata": {
        "id": "J4rGMytFlzMQ"
      },
      "outputs": [],
      "source": [
        ""
      ]
    },
    {
      "cell_type": "code",
      "execution_count": null,
      "metadata": {
        "id": "2JfmAzA-lzMQ"
      },
      "outputs": [],
      "source": [
        ""
      ]
    },
    {
      "cell_type": "code",
      "execution_count": null,
      "metadata": {
        "id": "UG_c_KZ0lzMQ"
      },
      "outputs": [],
      "source": [
        ""
      ]
    },
    {
      "cell_type": "code",
      "execution_count": null,
      "metadata": {
        "id": "TickPtN3lzMQ"
      },
      "outputs": [],
      "source": [
        ""
      ]
    },
    {
      "cell_type": "code",
      "execution_count": null,
      "metadata": {
        "id": "scy4mGqhlzMQ"
      },
      "outputs": [],
      "source": [
        ""
      ]
    },
    {
      "cell_type": "markdown",
      "metadata": {
        "id": "DO5J_3bnlzMQ"
      },
      "source": [
        "### Knapsack Solutions"
      ]
    },
    {
      "cell_type": "code",
      "execution_count": null,
      "metadata": {
        "id": "APboA_-4lzMQ"
      },
      "outputs": [],
      "source": [
        "from jovian.pythondsa import evaluate_test_cases"
      ]
    },
    {
      "cell_type": "code",
      "execution_count": null,
      "metadata": {
        "id": "OTJiXOJ0lzMQ"
      },
      "outputs": [],
      "source": [
        "def max_profit_recursive(capacity, weights, profits, idx=0):\n",
        "    if idx == len(weights):\n",
        "        return 0\n",
        "    if weights[idx] > capacity:\n",
        "        return max_profit_recursive(capacity, weights, profits, idx+1)\n",
        "    else:\n",
        "        return max(max_profit_recursive(capacity, weights, profits, idx+1),\n",
        "                   profits[idx] + max_profit_recursive(capacity-weights[idx], weights, profits, idx+1))"
      ]
    },
    {
      "cell_type": "code",
      "execution_count": null,
      "metadata": {
        "scrolled": true,
        "id": "PZshdS9SlzMQ",
        "outputId": "62be6b9b-cfa4-43dd-fd66-dbc9588ccf06"
      },
      "outputs": [
        {
          "name": "stdout",
          "output_type": "stream",
          "text": [
            "\n",
            "\u001b[1mTEST CASE #0\u001b[0m\n",
            "\n",
            "Input:\n",
            "{'capacity': 165, 'weights': [23, 31, 29, 44, 53, 38, 63, 85, 89, 82], 'profits': [92, 57, 49, 68, 6...\n",
            "\n",
            "Expected Output:\n",
            "309\n",
            "\n",
            "\n",
            "Actual Output:\n",
            "309\n",
            "\n",
            "Execution Time:\n",
            "0.174 ms\n",
            "\n",
            "Test Result:\n",
            "\u001b[92mPASSED\u001b[0m\n",
            "\n",
            "\n",
            "\u001b[1mTEST CASE #1\u001b[0m\n",
            "\n",
            "Input:\n",
            "{'capacity': 3, 'weights': [4, 5, 6], 'profits': [1, 2, 3]}\n",
            "\n",
            "Expected Output:\n",
            "0\n",
            "\n",
            "\n",
            "Actual Output:\n",
            "0\n",
            "\n",
            "Execution Time:\n",
            "0.004 ms\n",
            "\n",
            "Test Result:\n",
            "\u001b[92mPASSED\u001b[0m\n",
            "\n",
            "\n",
            "\u001b[1mTEST CASE #2\u001b[0m\n",
            "\n",
            "Input:\n",
            "{'capacity': 4, 'weights': [4, 5, 1], 'profits': [1, 2, 3]}\n",
            "\n",
            "Expected Output:\n",
            "3\n",
            "\n",
            "\n",
            "Actual Output:\n",
            "3\n",
            "\n",
            "Execution Time:\n",
            "0.009 ms\n",
            "\n",
            "Test Result:\n",
            "\u001b[92mPASSED\u001b[0m\n",
            "\n",
            "\n",
            "\u001b[1mTEST CASE #3\u001b[0m\n",
            "\n",
            "Input:\n",
            "{'capacity': 170, 'weights': [41, 50, 49, 59, 55, 57, 60], 'profits': [442, 525, 511, 593, 546, 564,...\n",
            "\n",
            "Expected Output:\n",
            "1735\n",
            "\n",
            "\n",
            "Actual Output:\n",
            "1735\n",
            "\n",
            "Execution Time:\n",
            "0.054 ms\n",
            "\n",
            "Test Result:\n",
            "\u001b[92mPASSED\u001b[0m\n",
            "\n",
            "\n",
            "\u001b[1mTEST CASE #4\u001b[0m\n",
            "\n",
            "Input:\n",
            "{'capacity': 15, 'weights': [4, 5, 6], 'profits': [1, 2, 3]}\n",
            "\n",
            "Expected Output:\n",
            "6\n",
            "\n",
            "\n",
            "Actual Output:\n",
            "6\n",
            "\n",
            "Execution Time:\n",
            "0.007 ms\n",
            "\n",
            "Test Result:\n",
            "\u001b[92mPASSED\u001b[0m\n",
            "\n",
            "\n",
            "\u001b[1mTEST CASE #5\u001b[0m\n",
            "\n",
            "Input:\n",
            "{'capacity': 15, 'weights': [4, 5, 1, 3, 2, 5], 'profits': [2, 3, 1, 5, 4, 7]}\n",
            "\n",
            "Expected Output:\n",
            "19\n",
            "\n",
            "\n",
            "Actual Output:\n",
            "19\n",
            "\n",
            "Execution Time:\n",
            "0.041 ms\n",
            "\n",
            "Test Result:\n",
            "\u001b[92mPASSED\u001b[0m\n",
            "\n",
            "\n",
            "\u001b[1mSUMMARY\u001b[0m\n",
            "\n",
            "TOTAL: 6, \u001b[92mPASSED\u001b[0m: 6, \u001b[91mFAILED\u001b[0m: 0\n"
          ]
        },
        {
          "data": {
            "text/plain": [
              "[(309, True, 0.174),\n",
              " (0, True, 0.004),\n",
              " (3, True, 0.009),\n",
              " (1735, True, 0.054),\n",
              " (6, True, 0.007),\n",
              " (19, True, 0.041)]"
            ]
          },
          "execution_count": 38,
          "metadata": {},
          "output_type": "execute_result"
        }
      ],
      "source": [
        "evaluate_test_cases(max_profit_recursive, tests)"
      ]
    },
    {
      "cell_type": "code",
      "execution_count": null,
      "metadata": {
        "id": "NjPPrfSilzMQ"
      },
      "outputs": [],
      "source": [
        ""
      ]
    },
    {
      "cell_type": "markdown",
      "metadata": {
        "id": "KmJoBrbFlzMQ"
      },
      "source": [
        "Memoized:"
      ]
    },
    {
      "cell_type": "code",
      "execution_count": null,
      "metadata": {
        "id": "uqVukzL3lzMR"
      },
      "outputs": [],
      "source": [
        "def knapsack_memo(capacity, weights, profits):\n",
        "    memo = {}\n",
        "    \n",
        "    def recurse(idx, remaining):\n",
        "        key = (idx, remaining)\n",
        "        if key in memo:\n",
        "            return memo[key]\n",
        "        elif idx == len(weights):\n",
        "            memo[key] = 0\n",
        "        elif weights[idx] > remaining:\n",
        "            memo[key] = recurse(idx+1, remaining)\n",
        "        else:\n",
        "            memo[key] = max(recurse(idx+1, remaining), \n",
        "                            profits[idx] + recurse(idx+1, remaining-weights[idx]))\n",
        "        return memo[key] \n",
        "        \n",
        "    return recurse(0, capacity)"
      ]
    },
    {
      "cell_type": "code",
      "execution_count": null,
      "metadata": {
        "scrolled": true,
        "id": "BosIPgSplzMR",
        "outputId": "8cf37477-bc50-47d6-f039-9c6f5830b303"
      },
      "outputs": [
        {
          "name": "stdout",
          "output_type": "stream",
          "text": [
            "\n",
            "\u001b[1mTEST CASE #0\u001b[0m\n",
            "\n",
            "Input:\n",
            "{'capacity': 165, 'weights': [23, 31, 29, 44, 53, 38, 63, 85, 89, 82], 'profits': [92, 57, 49, 68, 6...\n",
            "\n",
            "Expected Output:\n",
            "309\n",
            "\n",
            "\n",
            "Actual Output:\n",
            "309\n",
            "\n",
            "Execution Time:\n",
            "0.279 ms\n",
            "\n",
            "Test Result:\n",
            "\u001b[92mPASSED\u001b[0m\n",
            "\n",
            "\n",
            "\u001b[1mTEST CASE #1\u001b[0m\n",
            "\n",
            "Input:\n",
            "{'capacity': 3, 'weights': [4, 5, 6], 'profits': [1, 2, 3]}\n",
            "\n",
            "Expected Output:\n",
            "0\n",
            "\n",
            "\n",
            "Actual Output:\n",
            "0\n",
            "\n",
            "Execution Time:\n",
            "0.007 ms\n",
            "\n",
            "Test Result:\n",
            "\u001b[92mPASSED\u001b[0m\n",
            "\n",
            "\n",
            "\u001b[1mTEST CASE #2\u001b[0m\n",
            "\n",
            "Input:\n",
            "{'capacity': 4, 'weights': [4, 5, 1], 'profits': [1, 2, 3]}\n",
            "\n",
            "Expected Output:\n",
            "3\n",
            "\n",
            "\n",
            "Actual Output:\n",
            "3\n",
            "\n",
            "Execution Time:\n",
            "0.011 ms\n",
            "\n",
            "Test Result:\n",
            "\u001b[92mPASSED\u001b[0m\n",
            "\n",
            "\n",
            "\u001b[1mTEST CASE #3\u001b[0m\n",
            "\n",
            "Input:\n",
            "{'capacity': 170, 'weights': [41, 50, 49, 59, 55, 57, 60], 'profits': [442, 525, 511, 593, 546, 564,...\n",
            "\n",
            "Expected Output:\n",
            "1735\n",
            "\n",
            "\n",
            "Actual Output:\n",
            "1735\n",
            "\n",
            "Execution Time:\n",
            "0.098 ms\n",
            "\n",
            "Test Result:\n",
            "\u001b[92mPASSED\u001b[0m\n",
            "\n",
            "\n",
            "\u001b[1mTEST CASE #4\u001b[0m\n",
            "\n",
            "Input:\n",
            "{'capacity': 15, 'weights': [4, 5, 6], 'profits': [1, 2, 3]}\n",
            "\n",
            "Expected Output:\n",
            "6\n",
            "\n",
            "\n",
            "Actual Output:\n",
            "6\n",
            "\n",
            "Execution Time:\n",
            "0.018 ms\n",
            "\n",
            "Test Result:\n",
            "\u001b[92mPASSED\u001b[0m\n",
            "\n",
            "\n",
            "\u001b[1mTEST CASE #5\u001b[0m\n",
            "\n",
            "Input:\n",
            "{'capacity': 15, 'weights': [4, 5, 1, 3, 2, 5], 'profits': [2, 3, 1, 5, 4, 7]}\n",
            "\n",
            "Expected Output:\n",
            "19\n",
            "\n",
            "\n",
            "Actual Output:\n",
            "19\n",
            "\n",
            "Execution Time:\n",
            "0.053 ms\n",
            "\n",
            "Test Result:\n",
            "\u001b[92mPASSED\u001b[0m\n",
            "\n",
            "\n",
            "\u001b[1mSUMMARY\u001b[0m\n",
            "\n",
            "TOTAL: 6, \u001b[92mPASSED\u001b[0m: 6, \u001b[91mFAILED\u001b[0m: 0\n"
          ]
        },
        {
          "data": {
            "text/plain": [
              "[(309, True, 0.279),\n",
              " (0, True, 0.007),\n",
              " (3, True, 0.011),\n",
              " (1735, True, 0.098),\n",
              " (6, True, 0.018),\n",
              " (19, True, 0.053)]"
            ]
          },
          "execution_count": 40,
          "metadata": {},
          "output_type": "execute_result"
        }
      ],
      "source": [
        "evaluate_test_cases(knapsack_memo, tests)"
      ]
    },
    {
      "cell_type": "code",
      "execution_count": null,
      "metadata": {
        "id": "Zg5BuDfmlzMR"
      },
      "outputs": [],
      "source": [
        ""
      ]
    },
    {
      "cell_type": "code",
      "execution_count": null,
      "metadata": {
        "id": "X6cANrg4lzMR"
      },
      "outputs": [],
      "source": [
        ""
      ]
    },
    {
      "cell_type": "markdown",
      "metadata": {
        "id": "O227UmjtlzMR"
      },
      "source": [
        "Dynamic programming:"
      ]
    },
    {
      "cell_type": "code",
      "execution_count": null,
      "metadata": {
        "id": "LwSHKxVolzMR"
      },
      "outputs": [],
      "source": [
        "def knapsack_dp(capacity, weights, profits):\n",
        "    n = len(weights)\n",
        "    results = [[0 for _ in range(capacity+1)] for _ in range(n+1)]\n",
        "    \n",
        "    for idx in range(n):\n",
        "        for c in range(capacity+1):\n",
        "            if weights[idx] > c:\n",
        "                results[idx+1][c] = results[idx][c]\n",
        "            else:\n",
        "                results[idx+1][c] = max(results[idx][c], profits[idx] + results[idx][c-weights[idx]])\n",
        "            \n",
        "    return results[-1][-1]"
      ]
    },
    {
      "cell_type": "code",
      "execution_count": null,
      "metadata": {
        "scrolled": true,
        "id": "0vHYR5vJlzMR",
        "outputId": "29541291-ebeb-43aa-cc25-71765e289f3e"
      },
      "outputs": [
        {
          "name": "stdout",
          "output_type": "stream",
          "text": [
            "\n",
            "\u001b[1mTEST CASE #0\u001b[0m\n",
            "\n",
            "Input:\n",
            "{'capacity': 165, 'weights': [23, 31, 29, 44, 53, 38, 63, 85, 89, 82], 'profits': [92, 57, 49, 68, 6...\n",
            "\n",
            "Expected Output:\n",
            "309\n",
            "\n",
            "\n",
            "Actual Output:\n",
            "309\n",
            "\n",
            "Execution Time:\n",
            "0.656 ms\n",
            "\n",
            "Test Result:\n",
            "\u001b[92mPASSED\u001b[0m\n",
            "\n",
            "\n",
            "\u001b[1mTEST CASE #1\u001b[0m\n",
            "\n",
            "Input:\n",
            "{'capacity': 3, 'weights': [4, 5, 6], 'profits': [1, 2, 3]}\n",
            "\n",
            "Expected Output:\n",
            "0\n",
            "\n",
            "\n",
            "Actual Output:\n",
            "0\n",
            "\n",
            "Execution Time:\n",
            "0.014 ms\n",
            "\n",
            "Test Result:\n",
            "\u001b[92mPASSED\u001b[0m\n",
            "\n",
            "\n",
            "\u001b[1mTEST CASE #2\u001b[0m\n",
            "\n",
            "Input:\n",
            "{'capacity': 4, 'weights': [4, 5, 1], 'profits': [1, 2, 3]}\n",
            "\n",
            "Expected Output:\n",
            "3\n",
            "\n",
            "\n",
            "Actual Output:\n",
            "3\n",
            "\n",
            "Execution Time:\n",
            "0.016 ms\n",
            "\n",
            "Test Result:\n",
            "\u001b[92mPASSED\u001b[0m\n",
            "\n",
            "\n",
            "\u001b[1mTEST CASE #3\u001b[0m\n",
            "\n",
            "Input:\n",
            "{'capacity': 170, 'weights': [41, 50, 49, 59, 55, 57, 60], 'profits': [442, 525, 511, 593, 546, 564,...\n",
            "\n",
            "Expected Output:\n",
            "1735\n",
            "\n",
            "\n",
            "Actual Output:\n",
            "1735\n",
            "\n",
            "Execution Time:\n",
            "0.497 ms\n",
            "\n",
            "Test Result:\n",
            "\u001b[92mPASSED\u001b[0m\n",
            "\n",
            "\n",
            "\u001b[1mTEST CASE #4\u001b[0m\n",
            "\n",
            "Input:\n",
            "{'capacity': 15, 'weights': [4, 5, 6], 'profits': [1, 2, 3]}\n",
            "\n",
            "Expected Output:\n",
            "6\n",
            "\n",
            "\n",
            "Actual Output:\n",
            "6\n",
            "\n",
            "Execution Time:\n",
            "0.028 ms\n",
            "\n",
            "Test Result:\n",
            "\u001b[92mPASSED\u001b[0m\n",
            "\n",
            "\n",
            "\u001b[1mTEST CASE #5\u001b[0m\n",
            "\n",
            "Input:\n",
            "{'capacity': 15, 'weights': [4, 5, 1, 3, 2, 5], 'profits': [2, 3, 1, 5, 4, 7]}\n",
            "\n",
            "Expected Output:\n",
            "19\n",
            "\n",
            "\n",
            "Actual Output:\n",
            "19\n",
            "\n",
            "Execution Time:\n",
            "0.05 ms\n",
            "\n",
            "Test Result:\n",
            "\u001b[92mPASSED\u001b[0m\n",
            "\n",
            "\n",
            "\u001b[1mSUMMARY\u001b[0m\n",
            "\n",
            "TOTAL: 6, \u001b[92mPASSED\u001b[0m: 6, \u001b[91mFAILED\u001b[0m: 0\n"
          ]
        },
        {
          "data": {
            "text/plain": [
              "[(309, True, 0.656),\n",
              " (0, True, 0.014),\n",
              " (3, True, 0.016),\n",
              " (1735, True, 0.497),\n",
              " (6, True, 0.028),\n",
              " (19, True, 0.05)]"
            ]
          },
          "execution_count": 42,
          "metadata": {},
          "output_type": "execute_result"
        }
      ],
      "source": [
        "evaluate_test_cases(knapsack_dp, tests)"
      ]
    },
    {
      "cell_type": "code",
      "execution_count": null,
      "metadata": {
        "id": "koIwSduSlzMR"
      },
      "outputs": [],
      "source": [
        ""
      ]
    },
    {
      "cell_type": "code",
      "execution_count": null,
      "metadata": {
        "id": "44TL6rFGlzMR"
      },
      "outputs": [],
      "source": [
        ""
      ]
    },
    {
      "cell_type": "code",
      "execution_count": null,
      "metadata": {
        "id": "Zqf68_7klzMR"
      },
      "outputs": [],
      "source": [
        ""
      ]
    },
    {
      "cell_type": "code",
      "execution_count": null,
      "metadata": {
        "id": "s578tD98lzMR"
      },
      "outputs": [],
      "source": [
        "import jovian"
      ]
    },
    {
      "cell_type": "code",
      "execution_count": null,
      "metadata": {
        "id": "CVWlG_ZXlzMR",
        "outputId": "f918ad65-c28b-4deb-f6aa-3033e8534bdc"
      },
      "outputs": [
        {
          "data": {
            "application/javascript": [
              "window.require && require([\"base/js/namespace\"],function(Jupyter){Jupyter.notebook.save_checkpoint()})"
            ],
            "text/plain": [
              "<IPython.core.display.Javascript object>"
            ]
          },
          "metadata": {},
          "output_type": "display_data"
        },
        {
          "name": "stdout",
          "output_type": "stream",
          "text": [
            "[jovian] Attempting to save notebook..\u001b[0m\n"
          ]
        }
      ],
      "source": [
        "jovian.commit(filename=\"dynamic-programming-problems\")"
      ]
    },
    {
      "cell_type": "code",
      "execution_count": null,
      "metadata": {
        "id": "10HWOVg_lzMS"
      },
      "outputs": [],
      "source": [
        ""
      ]
    }
  ],
  "metadata": {
    "kernelspec": {
      "display_name": "Python 3",
      "language": "python",
      "name": "python3"
    },
    "language_info": {
      "codemirror_mode": {
        "name": "ipython",
        "version": 3
      },
      "file_extension": ".py",
      "mimetype": "text/x-python",
      "name": "python",
      "nbconvert_exporter": "python",
      "pygments_lexer": "ipython3",
      "version": "3.6.12"
    },
    "colab": {
      "name": "dynamic-programming-problems.ipynb",
      "provenance": [],
      "collapsed_sections": [
        "m3e5MV2ilzMM",
        "JBIw_v3tlzMM"
      ],
      "include_colab_link": true
    }
  },
  "nbformat": 4,
  "nbformat_minor": 0
}